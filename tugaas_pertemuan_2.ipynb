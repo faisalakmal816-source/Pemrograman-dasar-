{
  "nbformat": 4,
  "nbformat_minor": 0,
  "metadata": {
    "colab": {
      "provenance": [],
      "authorship_tag": "ABX9TyNGfQPBhHipJAU7zI5Ww8Mc",
      "include_colab_link": true
    },
    "kernelspec": {
      "name": "python3",
      "display_name": "Python 3"
    },
    "language_info": {
      "name": "python"
    }
  },
  "cells": [
    {
      "cell_type": "markdown",
      "metadata": {
        "id": "view-in-github",
        "colab_type": "text"
      },
      "source": [
        "<a href=\"https://colab.research.google.com/github/faisalakmal816-source/Pemrograman-dasar-/blob/main/tugaas_pertemuan_2.ipynb\" target=\"_parent\"><img src=\"https://colab.research.google.com/assets/colab-badge.svg\" alt=\"Open In Colab\"/></a>"
      ]
    },
    {
      "cell_type": "code",
      "execution_count": null,
      "metadata": {
        "colab": {
          "base_uri": "https://localhost:8080/"
        },
        "id": "khlGh83G6bo-",
        "outputId": "b368ed25-e16a-4800-baa9-79cd374fbe4b"
      },
      "outputs": [
        {
          "output_type": "stream",
          "name": "stdout",
          "text": [
            "nama depan : FAISHAL\n",
            "nama belakang : AKMAL\n",
            "umur : 19\n",
            "status menikah : False\n"
          ]
        }
      ],
      "source": [
        "#1TODO\n",
        "firstName = \"FAISHAL\"\n",
        "lastName = \"AKMAL\"\n",
        "age = 19\n",
        "isMarried = False\n",
        "\n",
        "print(\"nama depan :\", firstName)\n",
        "print(\"nama belakang :\", lastName)\n",
        "print(\"umur :\", age)\n",
        "print(\"status menikah :\", isMarried)"
      ]
    },
    {
      "cell_type": "code",
      "source": [
        "#2TODO\n",
        "data_diri = {\n",
        "    \"firstName\": \"FAISHAL\",\n",
        "    \"lastName\": \"AKMAL\",\n",
        "    \"age\": 19,\n",
        "    \"isMarried\": False\n",
        "}\n",
        "print(\"Data Diri:\", data_diri)\n",
        "print(\"\\n=== BIODATA ===\")\n",
        "print(f\"Nama Depan       : {data_diri['firstName']}\")\n",
        "print(f\"Nama Belakang    : {data_diri['lastName']}\")\n",
        "print(f\"Umur             : {data_diri['age']} tahun\")\n",
        "print(f\"Status Pernikahan: {'Sudah Menikah' if data_diri['isMarried'] else 'Belum Menikah'}\")"
      ],
      "metadata": {
        "colab": {
          "base_uri": "https://localhost:8080/"
        },
        "id": "OGgscxKa6uCm",
        "outputId": "94a7ad19-13c5-48a0-d09a-e8e21cb63e44"
      },
      "execution_count": null,
      "outputs": [
        {
          "output_type": "stream",
          "name": "stdout",
          "text": [
            "Data Diri: {'firstName': 'FAISHAL', 'lastName': 'AKMAL', 'age': 19, 'isMarried': False}\n",
            "\n",
            "=== BIODATA ===\n",
            "Nama Depan       : FAISHAL\n",
            "Nama Belakang    : AKMAL\n",
            "Umur             : 19 tahun\n",
            "Status Pernikahan: Belum Menikah\n"
          ]
        }
      ]
    },
    {
      "cell_type": "code",
      "source": [
        "#3TODO\n",
        "\n",
        "inspeksi = [\n",
        "    \"pemahaman terhadap rencana dan desain\",\n",
        "    \"ketersediaan bahan dan peralatan\",\n",
        "    \"pengawasan pekerjaan\",\n",
        "    \"kualitas konstruksi\",\n",
        "    \"keselamatan kerja\",\n",
        "    \"koordinasi dengan pemilik proyek\"\n",
        "]\n",
        "print(\"daftar inspeksi:\")\n",
        "for item in inspeksi:\n",
        "    print(\"-\", item)"
      ],
      "metadata": {
        "colab": {
          "base_uri": "https://localhost:8080/"
        },
        "id": "HPerQvT967d7",
        "outputId": "c7da20e1-9471-4927-928e-c3500c102d6f"
      },
      "execution_count": null,
      "outputs": [
        {
          "output_type": "stream",
          "name": "stdout",
          "text": [
            "daftar inspeksi:\n",
            "- pemahaman terhadap rencana dan desain\n",
            "- ketersediaan bahan dan peralatan\n",
            "- pengawasan pekerjaan\n",
            "- kualitas konstruksi\n",
            "- keselamatan kerja\n",
            "- koordinasi dengan pemilik proyek\n"
          ]
        }
      ]
    },
    {
      "cell_type": "code",
      "source": [
        "#4TODO\n",
        "StartTime = {\n",
        "    \"HH\": 9,\n",
        "    \"mm\": 23,\n",
        "    \"ss\": 57\n",
        "}\n",
        "EndTime = {\n",
        "    \"HH\": 15,\n",
        "    \"mm\": 25,\n",
        "    \"ss\": 43\n",
        "}\n",
        "print(\"Waktu Datang:\", StartTime)\n",
        "print(\"Waktu Pulang:\", EndTime)"
      ],
      "metadata": {
        "colab": {
          "base_uri": "https://localhost:8080/"
        },
        "id": "LB8dbsEz7WQK",
        "outputId": "e0a8f2d6-246a-4bc6-cbf4-ba80998718da"
      },
      "execution_count": null,
      "outputs": [
        {
          "output_type": "stream",
          "name": "stdout",
          "text": [
            "Waktu Datang: {'HH': 9, 'mm': 23, 'ss': 57}\n",
            "Waktu Pulang: {'HH': 15, 'mm': 25, 'ss': 43}\n"
          ]
        }
      ]
    },
    {
      "cell_type": "code",
      "source": [
        "#5TODO\n",
        "\n",
        "katalog_A = {\"Laptop\", \"Smartphone\", \"Tablet\", \"Earphone\"}\n",
        "katalog_B = {\"Smartwatch\", \"Smartphone\", \"Laptop\", \"Kamera\"}\n",
        "produk_diskon = (\"Laptop\", \"Smartwatch\", \"Kamera\", \"Charger\")\n",
        "\n",
        "katalog_lengkap = katalog_A.union(katalog_B)\n",
        "print(\"Katalog Lengkap:\", katalog_lengkap)\n",
        "\n",
        "produk_promo_aktif = katalog_lengkap.intersection(produk_diskon)\n",
        "print(\"Produk Promo Aktif:\", produk_promo_aktif)"
      ],
      "metadata": {
        "colab": {
          "base_uri": "https://localhost:8080/"
        },
        "id": "cj3vDyH17z6B",
        "outputId": "03f07b35-6911-488a-c4c0-abe608012c72"
      },
      "execution_count": null,
      "outputs": [
        {
          "output_type": "stream",
          "name": "stdout",
          "text": [
            "Katalog Lengkap: {'Earphone', 'Tablet', 'Laptop', 'Smartwatch', 'Smartphone', 'Kamera'}\n",
            "Produk Promo Aktif: {'Smartwatch', 'Laptop', 'Kamera'}\n"
          ]
        }
      ]
    }
  ]
}