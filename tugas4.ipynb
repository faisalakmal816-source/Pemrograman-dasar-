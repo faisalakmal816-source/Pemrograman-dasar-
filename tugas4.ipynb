{
  "nbformat": 4,
  "nbformat_minor": 0,
  "metadata": {
    "colab": {
      "provenance": [],
      "authorship_tag": "ABX9TyOnSFtkQDgB2wBNfaioHG8i",
      "include_colab_link": true
    },
    "kernelspec": {
      "name": "python3",
      "display_name": "Python 3"
    },
    "language_info": {
      "name": "python"
    }
  },
  "cells": [
    {
      "cell_type": "markdown",
      "metadata": {
        "id": "view-in-github",
        "colab_type": "text"
      },
      "source": [
        "<a href=\"https://colab.research.google.com/github/faisalakmal816-source/Pemrograman-dasar-/blob/main/tugas4.ipynb\" target=\"_parent\"><img src=\"https://colab.research.google.com/assets/colab-badge.svg\" alt=\"Open In Colab\"/></a>"
      ]
    },
    {
      "cell_type": "code",
      "execution_count": 3,
      "metadata": {
        "colab": {
          "base_uri": "https://localhost:8080/"
        },
        "id": "hSB88UBUwQHE",
        "outputId": "eceb6730-8acc-461c-bf56-c82c2228a1bd"
      },
      "outputs": [
        {
          "output_type": "stream",
          "name": "stdout",
          "text": [
            "------------------------------\n",
            "SELAMAT DATANG DI KAFE ARATULA\n",
            "------------------------------\n",
            "Menu Makanan & Minuman:\n",
            "1. Kopi Hitam   = Rp 10.000\n",
            "2. Teh Manis    = Rp 7.000\n",
            "3. Roti Bakar   = Rp 13.000\n",
            "4. Mie Instan   = Rp 8.000\n",
            "------------------------------\n",
            "Silakan masukkan nomor pilihan Anda (1-4): 3\n",
            "Anda memesan: Roti Bakar dengan harga Rp 13000\n",
            "------------------------------\n",
            "total yang harus di bayar: Rp 13000. Masukkan jumlah uang anda: Rp 20000\n",
            "Uang kembalian: Rp 7000\n",
            "Terima kasih sudah berbelanja!\n"
          ]
        }
      ],
      "source": [
        "print(\"-\"*30)\n",
        "print(\"SELAMAT DATANG DI KAFE ARATULA\")\n",
        "print(\"-\"*30)\n",
        "print(\"Menu Makanan & Minuman:\")\n",
        "print(\"1. Kopi Hitam   = Rp 10.000\")\n",
        "print(\"2. Teh Manis    = Rp 7.000\")\n",
        "print(\"3. Roti Bakar   = Rp 13.000\")\n",
        "print(\"4. Mie Instan   = Rp 8.000\")\n",
        "print(\"-\"*30)\n",
        "\n",
        "pilihan_str: str = input(\"Silakan masukkan nomor pilihan Anda (1-4): \")\n",
        "pilihan = int(pilihan_str)\n",
        "\n",
        "nama_pesanan: str = \"\"\n",
        "harga: int = 0\n",
        "\n",
        "if pilihan == 1:\n",
        "    nama_pesanan = \"Kopi Hitam\"\n",
        "    harga = 10000\n",
        "    print(f\"Anda memesan: {nama_pesanan} dengan harga Rp {harga}\")\n",
        "elif pilihan == 2:\n",
        "    nama_pesanan = \"Teh Manis\"\n",
        "    harga = 7000\n",
        "    print(f\"Anda memesan: {nama_pesanan} dengan harga Rp {harga}\")\n",
        "elif pilihan == 3:\n",
        "    nama_pesanan = \"Roti Bakar\"\n",
        "    harga = 13000\n",
        "    print(f\"Anda memesan: {nama_pesanan} dengan harga Rp {harga}\")\n",
        "elif pilihan == 4:\n",
        "    nama_pesanan = \"Mie Instan\"\n",
        "    harga = 8000\n",
        "    print(f\"Anda memesan: {nama_pesanan} dengan harga Rp {harga}\")\n",
        "else:\n",
        "    print(\"Maaf, Pilihan menu tidak valid, Silahkan jalankan ulang program\")\n",
        "\n",
        "if harga > 0:\n",
        "  print(\"-\" * 30)\n",
        "  uang_dibayar_str: str = input(f\"total yang harus di bayar: Rp {harga}. Masukkan jumlah uang anda: Rp \")\n",
        "  uang_dibayar: int = int(uang_dibayar_str)\n",
        "  if uang_dibayar >= harga:\n",
        "    kembalian: int = uang_dibayar - harga\n",
        "    print(f\"Uang kembalian: Rp {kembalian}\")\n",
        "    print(\"Terima kasih sudah berbelanja!\")\n",
        "  else:\n",
        "    kekurangan: int = harga - uang_dibayar\n",
        "    print(f\"Maaf, uang anda kurang sebesar Rp {kekurangan}\")"
      ]
    }
  ]
}